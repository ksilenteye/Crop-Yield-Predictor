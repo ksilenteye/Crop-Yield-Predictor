{
 "cells": [
  {
   "cell_type": "code",
   "execution_count": 7,
   "id": "58118a54-fcba-4b69-9a5e-d337cdf5f70d",
   "metadata": {},
   "outputs": [
    {
     "name": "stdout",
     "output_type": "stream",
     "text": [
      "{'error': \"'NoneType' object has no attribute 'predict'\"}\n"
     ]
    }
   ],
   "source": [
    "import requests\n",
    "\n",
    "data = {\n",
    "  \"city\": \"Delhi\",\n",
    "  \"lat\": 28.61,\n",
    "  \"lon\": 77.23,\n",
    "  \"Soil_Type\": \"Loamy\",\n",
    "  \"Crop_Type\": \"Wheat\",\n",
    "  \"Season\": \"Rabi\",\n",
    "  \"pH\": 6.7,\n",
    "  \"Nitrogen\": 80,\n",
    "  \"Phosphorus\": 40,\n",
    "  \"Potassium\": 150,\n",
    "  \"Irrigation_Type\": \"Drip\"\n",
    "}\n",
    "\n",
    "res = requests.post(\"http://127.0.0.1:5000/predict\", json=data)\n",
    "print(res.json())\n"
   ]
  },
  {
   "cell_type": "code",
   "execution_count": null,
   "id": "909ac4f7-5b59-4bc0-b144-d5d2142fd82c",
   "metadata": {},
   "outputs": [],
   "source": []
  }
 ],
 "metadata": {
  "kernelspec": {
   "display_name": "Python [conda env:base] *",
   "language": "python",
   "name": "conda-base-py"
  },
  "language_info": {
   "codemirror_mode": {
    "name": "ipython",
    "version": 3
   },
   "file_extension": ".py",
   "mimetype": "text/x-python",
   "name": "python",
   "nbconvert_exporter": "python",
   "pygments_lexer": "ipython3",
   "version": "3.13.5"
  }
 },
 "nbformat": 4,
 "nbformat_minor": 5
}
